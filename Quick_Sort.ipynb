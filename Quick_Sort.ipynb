{
  "nbformat": 4,
  "nbformat_minor": 0,
  "metadata": {
    "colab": {
      "name": "Quick Sort",
      "provenance": [],
      "collapsed_sections": [],
      "authorship_tag": "ABX9TyPbF2DRja17RnTKcEFYm8PS",
      "include_colab_link": true
    },
    "kernelspec": {
      "name": "python3",
      "display_name": "Python 3"
    },
    "language_info": {
      "name": "python"
    }
  },
  "cells": [
    {
      "cell_type": "markdown",
      "metadata": {
        "id": "view-in-github",
        "colab_type": "text"
      },
      "source": [
        "<a href=\"https://colab.research.google.com/github/JAYNAGRAJSAWANT/Practical_no_11/blob/main/Quick_Sort.ipynb\" target=\"_parent\"><img src=\"https://colab.research.google.com/assets/colab-badge.svg\" alt=\"Open In Colab\"/></a>"
      ]
    },
    {
      "cell_type": "code",
      "metadata": {
        "id": "Sy1TVQXUfzTu"
      },
      "source": [
        "def quick(arr,low,high):\n",
        "    if(low<high):\n",
        "        m=partition(arr,low,high)\n",
        "        quick(arr,low,m-1)\n",
        "        quick(arr,m+1,high)\n",
        "\n",
        "def partition(arr,low,high):\n",
        "    pivot = arr[low]\n",
        "    i=low+1\n",
        "    j=high\n",
        "    flag = False\n",
        "    while(not flag):\n",
        "        while(i<=j and arr[i]<=pivot):\n",
        "            i = i + 1\n",
        "        while(i<=j and arr[j]>=pivot):\n",
        "            j = j - 1\n",
        "            \n",
        "        if(j<i):\n",
        "            flag = True\n",
        "        else:\n",
        "            temp = arr[i]\n",
        "            arr[i] = arr[j]\n",
        "            arr[j] = temp\n",
        "\n",
        "    temp = arr[low]\n",
        "    arr[low] = arr[j]\n",
        "    arr[j] = temp    \n",
        "    return j \n",
        "\n",
        "print(\"\\nEnter no of students\")\n",
        "n = int(input())\n",
        "array = []\n",
        "i=0\n",
        "for i in range(n):\n",
        "    print(\"\\n Enter percentage marks\")\n",
        "    item = float(input())\n",
        "    array.append(item)\n",
        "\n",
        "print(\"You have entered following scores...\\n\")\n",
        "print(array)\n",
        "\n",
        "print(\"\\n sorted Scores \")\n",
        "qick(array,0,n-1)\n",
        "print(array)\n",
        "print(\"Top Five Scores are\")\n",
        "for i in range (len(array)-1,1,-1):\n",
        "    print(array[i])\n"
      ],
      "execution_count": null,
      "outputs": []
    }
  ]
}